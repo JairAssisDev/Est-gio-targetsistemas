{
  "nbformat": 4,
  "nbformat_minor": 0,
  "metadata": {
    "colab": {
      "provenance": [],
      "authorship_tag": "ABX9TyN2UKGvLmLpW95E2WWOdva0",
      "include_colab_link": true
    },
    "kernelspec": {
      "name": "python3",
      "display_name": "Python 3"
    },
    "language_info": {
      "name": "python"
    }
  },
  "cells": [
    {
      "cell_type": "markdown",
      "metadata": {
        "id": "view-in-github",
        "colab_type": "text"
      },
      "source": [
        "<a href=\"https://colab.research.google.com/github/JairAssisDev/Est-gio-targetsistemas/blob/main/est%C3%A1gio.ipynb\" target=\"_parent\"><img src=\"https://colab.research.google.com/assets/colab-badge.svg\" alt=\"Open In Colab\"/></a>"
      ]
    },
    {
      "cell_type": "markdown",
      "source": [
        "1) Dado a sequência de Fibonacci, onde se inicia por 0 e 1 e o próximo valor sempre será a soma dos 2 valores anteriores (exemplo: 0, 1, 1, 2, 3, 5, 8, 13, 21, 34...), escreva um programa na linguagem que desejar onde, informado um número, ele calcule a sequência de Fibonacci e retorne uma mensagem avisando se o número informado pertence ou não a sequência."
      ],
      "metadata": {
        "id": "sWC3ddk_PdnL"
      }
    },
    {
      "cell_type": "code",
      "execution_count": null,
      "metadata": {
        "colab": {
          "base_uri": "https://localhost:8080/"
        },
        "id": "TOXADrm8PNTQ",
        "outputId": "e37ca959-b7a9-4c62-eee6-738802f17a5d"
      },
      "outputs": [
        {
          "output_type": "stream",
          "name": "stdout",
          "text": [
            "Informe um número: 2\n",
            "O número 2 pertence à sequência de Fibonacci.\n"
          ]
        }
      ],
      "source": [
        "def fibonacci(n):\n",
        "    a, b = 0, 1\n",
        "    while a <= n:\n",
        "        if a == n:\n",
        "            return True\n",
        "        a, b = b, a + b\n",
        "    return False\n",
        "\n",
        "num = int(input(\"Informe um número: \"))\n",
        "\n",
        "if fibonacci(num):\n",
        "    print(f\"O número {num} pertence à sequência de Fibonacci.\")\n",
        "else:\n",
        "    print(f\"O número {num} não pertence à sequência de Fibonacci.\")\n"
      ]
    },
    {
      "cell_type": "markdown",
      "source": [
        "2) Escreva um programa que verifique, em uma string, a existência da letra ‘a’, seja maiúscula ou minúscula, além de informar a quantidade de vezes em que ela ocorre."
      ],
      "metadata": {
        "id": "0B3aCCUIPgmq"
      }
    },
    {
      "cell_type": "code",
      "source": [
        "def contar_a(string):\n",
        "    return string.lower().count('a')\n",
        "\n",
        "# Input: string informada\n",
        "string = input(\"Informe uma string: \")\n",
        "\n",
        "# Verificar a quantidade de 'a'\n",
        "quantidade_a = contar_a(string)\n",
        "print(f\"A letra 'a' aparece {quantidade_a} vez(es) na string.\")\n"
      ],
      "metadata": {
        "id": "jkVH4BhcPcwf"
      },
      "execution_count": null,
      "outputs": []
    },
    {
      "cell_type": "markdown",
      "source": [
        "3) Observe o trecho de código abaixo: int INDICE = 12, SOMA = 0, K = 1; enquanto K < INDICE faça { K = K + 1; SOMA = SOMA + K; } imprimir(SOMA);\n",
        "\n",
        "Ao final do processamento, qual será o valor da variável SOMA?"
      ],
      "metadata": {
        "id": "L8AAQCqIPqXS"
      }
    },
    {
      "cell_type": "code",
      "source": [
        "INDICE = 12\n",
        "SOMA = 0\n",
        "K = 1\n",
        "\n",
        "while K < INDICE:\n",
        "    K = K + 1\n",
        "    SOMA = SOMA + K\n",
        "\n",
        "print(SOMA)\n"
      ],
      "metadata": {
        "colab": {
          "base_uri": "https://localhost:8080/"
        },
        "id": "V6PXNlzEPtBl",
        "outputId": "1a3b106f-57ac-4f7b-d8d0-ec1495b9ef82"
      },
      "execution_count": null,
      "outputs": [
        {
          "output_type": "stream",
          "name": "stdout",
          "text": [
            "77\n"
          ]
        }
      ]
    },
    {
      "cell_type": "code",
      "source": [
        "4) Descubra a lógica e complete o próximo elemento:\n",
        "a) 1, 3, 5, 7, _9_\n",
        "b) 2, 4, 8, 16, 32, 64, _128_\n",
        "c) 0, 1, 4, 9, 16, 25, 36, __49_\n",
        "d) 4, 16, 36, 64, _100__\n",
        "e) 1, 1, 2, 3, 5, 8, _13_\n",
        "f) 2,10, 12, 16, 17, 18, 19, _20_"
      ],
      "metadata": {
        "id": "jWr8W8oyQYEt"
      },
      "execution_count": null,
      "outputs": []
    },
    {
      "cell_type": "markdown",
      "source": [],
      "metadata": {
        "id": "NBoT30juQpJW"
      }
    },
    {
      "cell_type": "markdown",
      "source": [
        "5) Você está em uma sala com três interruptores, cada um conectado a uma lâmpada em salas diferentes. Você não pode ver as lâmpadas da sala em que está, mas pode ligar e desligar os interruptores quantas vezes quiser. Seu objetivo é descobrir qual interruptor controla qual lâmpada. Como você faria para descobrir, usando apenas duas idas até uma das salas das lâmpadas, qual interruptor controla cada lâmpada?"
      ],
      "metadata": {
        "id": "uErLaXEpQvoM"
      }
    },
    {
      "cell_type": "markdown",
      "source": [
        "Ligue o primeiro interruptor e espere alguns minutos.\n",
        "Desligue o primeiro interruptor e ligue o segundo interruptor.\n",
        "Vá até a sala das lâmpadas:\n",
        "A lâmpada que está acesa é controlada pelo segundo interruptor.\n",
        "A lâmpada que está apagada, mas quente, é controlada pelo primeiro interruptor.\n",
        "A lâmpada que está apagada e fria é controlada pelo terceiro interruptor."
      ],
      "metadata": {
        "id": "BXkKEyEJQu_8"
      }
    },
    {
      "cell_type": "markdown",
      "source": [],
      "metadata": {
        "id": "6Eg0DQS-QxOO"
      }
    }
  ]
}